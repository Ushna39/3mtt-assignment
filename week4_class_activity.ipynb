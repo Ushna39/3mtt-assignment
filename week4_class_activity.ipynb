{
  "nbformat": 4,
  "nbformat_minor": 0,
  "metadata": {
    "colab": {
      "provenance": [],
      "authorship_tag": "ABX9TyMrTVSrJ0m5ixkumhW1o+ik",
      "include_colab_link": true
    },
    "kernelspec": {
      "name": "python3",
      "display_name": "Python 3"
    },
    "language_info": {
      "name": "python"
    }
  },
  "cells": [
    {
      "cell_type": "markdown",
      "metadata": {
        "id": "view-in-github",
        "colab_type": "text"
      },
      "source": [
        "<a href=\"https://colab.research.google.com/github/Ushna39/3mtt-assignment/blob/main/week4_class_activity.ipynb\" target=\"_parent\"><img src=\"https://colab.research.google.com/assets/colab-badge.svg\" alt=\"Open In Colab\"/></a>"
      ]
    },
    {
      "cell_type": "markdown",
      "source": [
        "Q) Build a python program utilizing data structures,condotional statements and functions to solve a data related task"
      ],
      "metadata": {
        "id": "Sgk4P_RYH3gp"
      }
    },
    {
      "cell_type": "markdown",
      "source": [
        "1)Use of data structure"
      ],
      "metadata": {
        "id": "PxFwOtgpRown"
      }
    },
    {
      "cell_type": "markdown",
      "source": [
        "*Creating list with data"
      ],
      "metadata": {
        "id": "g3N_cdspJSXe"
      }
    },
    {
      "cell_type": "code",
      "execution_count": null,
      "metadata": {
        "colab": {
          "base_uri": "https://localhost:8080/"
        },
        "id": "xUOhTeR8Glk6",
        "outputId": "47ec641d-fc8e-491c-84f5-54d03958b905"
      },
      "outputs": [
        {
          "output_type": "stream",
          "name": "stdout",
          "text": [
            "[]\n",
            "['aisha', 'fatima', 'ushna', 'khaleefa', 'example']\n"
          ]
        }
      ],
      "source": [
        "\n",
        "\n",
        "my_list = []  # create empty list\n",
        "print(my_list)\n",
        "my_list = [\"aisha\", \"fatima\", \"ushna\", \"khaleefa\", \"example\"]  # creating list with data\n",
        "print(my_list)"
      ]
    },
    {
      "cell_type": "markdown",
      "source": [
        "* dictionaries"
      ],
      "metadata": {
        "id": "RItrKCaMUEj6"
      }
    },
    {
      "cell_type": "code",
      "source": [
        "my_dict = {} #empty dictionary\n",
        "print(my_dict)\n",
        "my_dict = {1: 'school', 2: 'market', 3: 'house',} #dictionary with elements\n",
        "print(my_dict)"
      ],
      "metadata": {
        "colab": {
          "base_uri": "https://localhost:8080/"
        },
        "id": "yzL9j4tWJ53v",
        "outputId": "1148bc93-fb9f-45f7-9b40-317828d4692e"
      },
      "execution_count": null,
      "outputs": [
        {
          "output_type": "stream",
          "name": "stdout",
          "text": [
            "{}\n",
            "{1: 'school', 2: 'market', 3: 'house'}\n"
          ]
        }
      ]
    },
    {
      "cell_type": "markdown",
      "source": [
        "*using tuple"
      ],
      "metadata": {
        "id": "uunxz9WDUPwg"
      }
    },
    {
      "cell_type": "code",
      "source": [
        "my_tuple = ('rukaiya,hauwa,maryam,salisu,fatima')#create tuple\n",
        "print(my_tuple)"
      ],
      "metadata": {
        "colab": {
          "base_uri": "https://localhost:8080/"
        },
        "id": "Q1C0DdopLl2G",
        "outputId": "bc3f5ee5-1fa1-4b12-be5f-8326511395cc"
      },
      "execution_count": null,
      "outputs": [
        {
          "output_type": "stream",
          "name": "stdout",
          "text": [
            "rukaiya,hauwa,maryam,salisu,fatima\n"
          ]
        }
      ]
    },
    {
      "cell_type": "code",
      "source": [
        "my_set = {'market, market,shcool, house,house,room,room'} #create set\n",
        "print(my_set)"
      ],
      "metadata": {
        "colab": {
          "base_uri": "https://localhost:8080/"
        },
        "id": "p_HLwliRMAqI",
        "outputId": "9f023a91-4386-4597-eda6-0482e014fac3"
      },
      "execution_count": null,
      "outputs": [
        {
          "output_type": "stream",
          "name": "stdout",
          "text": [
            "{'market, market,shcool, house,house,room,room'}\n"
          ]
        }
      ]
    },
    {
      "cell_type": "code",
      "source": [
        "# if statement example\n",
        "\n",
        "if 10 > 5:\n",
        "\n",
        "    print(\"20 greater than 10\")\n",
        "\n",
        "\n",
        "print(\"Program ended\")"
      ],
      "metadata": {
        "id": "7MEW9tRdNKwm",
        "colab": {
          "base_uri": "https://localhost:8080/"
        },
        "outputId": "3fe11d78-9294-4ac7-a8e1-f820326508ee"
      },
      "execution_count": null,
      "outputs": [
        {
          "output_type": "stream",
          "name": "stdout",
          "text": [
            "20 greater than 10\n",
            "Program ended\n"
          ]
        }
      ]
    },
    {
      "cell_type": "code",
      "source": [
        "\n",
        "# if..else⁴ statement\n",
        "\n",
        "a = 4\n",
        "\n",
        "if a == 4:\n",
        "\n",
        "    print(\"Yes\")\n",
        "\n",
        "elif a == 4:\n",
        "\n",
        "    print(\"4\")\n",
        "\n",
        "else:\n",
        "\n",
        "    print(\"No\")"
      ],
      "metadata": {
        "colab": {
          "base_uri": "https://localhost:8080/"
        },
        "id": "1tK8goqfOpjU",
        "outputId": "4725da71-a19e-4053-cb9f-509970253eea"
      },
      "execution_count": null,
      "outputs": [
        {
          "output_type": "stream",
          "name": "stdout",
          "text": [
            "Yes\n"
          ]
        }
      ]
    }
  ]
}